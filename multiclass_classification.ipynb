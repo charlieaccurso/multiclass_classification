{
 "cells": [
  {
   "cell_type": "markdown",
   "id": "f353951e",
   "metadata": {},
   "source": [
    "# 3.5 Multiclass Classification"
   ]
  },
  {
   "cell_type": "markdown",
   "id": "f5ef1d76",
   "metadata": {},
   "source": [
    "## 3.5.1 Load dataset"
   ]
  },
  {
   "cell_type": "code",
   "execution_count": 1,
   "id": "77351c33",
   "metadata": {},
   "outputs": [
    {
     "name": "stderr",
     "output_type": "stream",
     "text": [
      "2023-03-04 15:48:54.108649: I tensorflow/core/platform/cpu_feature_guard.cc:182] This TensorFlow binary is optimized to use available CPU instructions in performance-critical operations.\n",
      "To enable the following instructions: AVX2 FMA, in other operations, rebuild TensorFlow with the appropriate compiler flags.\n"
     ]
    }
   ],
   "source": [
    "from keras.datasets import reuters\n",
    "(train_data, train_labels), (test_data, test_labels) = reuters.load_data(\n",
    "num_words=10000)"
   ]
  },
  {
   "cell_type": "code",
   "execution_count": 2,
   "id": "0e31c9ec",
   "metadata": {},
   "outputs": [],
   "source": [
    "# each datapoint is a list of integers (word indices)"
   ]
  },
  {
   "cell_type": "code",
   "execution_count": 3,
   "id": "01c70c9d",
   "metadata": {},
   "outputs": [
    {
     "data": {
      "text/plain": [
       "[1,\n",
       " 245,\n",
       " 273,\n",
       " 207,\n",
       " 156,\n",
       " 53,\n",
       " 74,\n",
       " 160,\n",
       " 26,\n",
       " 14,\n",
       " 46,\n",
       " 296,\n",
       " 26,\n",
       " 39,\n",
       " 74,\n",
       " 2979,\n",
       " 3554,\n",
       " 14,\n",
       " 46,\n",
       " 4689,\n",
       " 4329,\n",
       " 86,\n",
       " 61,\n",
       " 3499,\n",
       " 4795,\n",
       " 14,\n",
       " 61,\n",
       " 451,\n",
       " 4329,\n",
       " 17,\n",
       " 12]"
      ]
     },
     "execution_count": 3,
     "metadata": {},
     "output_type": "execute_result"
    }
   ],
   "source": [
    "train_data[10]"
   ]
  },
  {
   "cell_type": "markdown",
   "id": "f0bd9bc2",
   "metadata": {},
   "source": [
    "### Converting indices to words (for fun)"
   ]
  },
  {
   "cell_type": "code",
   "execution_count": 4,
   "id": "c83f1029",
   "metadata": {},
   "outputs": [],
   "source": [
    "word_index= reuters.get_word_index()"
   ]
  },
  {
   "cell_type": "code",
   "execution_count": 5,
   "id": "fcba02cb",
   "metadata": {},
   "outputs": [],
   "source": [
    "reverse_word_index = dict([(value, key) for (key, value) in word_index.items()])"
   ]
  },
  {
   "cell_type": "code",
   "execution_count": 6,
   "id": "59caafdd",
   "metadata": {},
   "outputs": [
    {
     "data": {
      "text/plain": [
       "'autumn'"
      ]
     },
     "execution_count": 6,
     "metadata": {},
     "output_type": "execute_result"
    }
   ],
   "source": [
    "reverse_word_index[3499]"
   ]
  },
  {
   "cell_type": "markdown",
   "id": "961b0d44",
   "metadata": {},
   "source": [
    "## 3.5.2 Encode data"
   ]
  },
  {
   "cell_type": "code",
   "execution_count": 7,
   "id": "925a0d9a",
   "metadata": {},
   "outputs": [],
   "source": [
    "# For training inputs, each new vector will contain a 1 at the word-index of the original sequence\n",
    "import numpy as np\n",
    "\n",
    "# dimension provides \"slots\" for 10000 words\n",
    "def vectorize_sequences(sequences, dimension=10000):\n",
    "    results = np.zeros((len(sequences), dimension))\n",
    "    for i, sequence in enumerate(sequences):\n",
    "        results[i, sequence] = 1.\n",
    "    return results\n",
    "\n",
    "x_train = vectorize_sequences(train_data)\n",
    "x_test = vectorize_sequences(test_data)"
   ]
  },
  {
   "cell_type": "code",
   "execution_count": 8,
   "id": "ae4e996b",
   "metadata": {},
   "outputs": [],
   "source": [
    "# for training targets, OHE categorical data\n",
    "def to_one_hot(labels, dimension=46):\n",
    "    results = np.zeros((len(labels), dimension))\n",
    "    for i, label in enumerate(labels):\n",
    "        results[i, label] = 1.\n",
    "    return results\n",
    "one_hot_train_labels = to_one_hot(train_labels)\n",
    "one_hot_test_labels = to_one_hot(test_labels)"
   ]
  },
  {
   "cell_type": "code",
   "execution_count": 9,
   "id": "d98a5eea",
   "metadata": {},
   "outputs": [
    {
     "data": {
      "text/plain": [
       "'\\nfrom keras.utils.np_utils import to_categorical\\none_hot_train_labels = to_categorical(train_labels)\\none_hot_test_labels = to_categorical(test_labels)\\n'"
      ]
     },
     "execution_count": 9,
     "metadata": {},
     "output_type": "execute_result"
    }
   ],
   "source": [
    "# built-in way:\n",
    "\"\"\"\n",
    "from keras.utils.np_utils import to_categorical\n",
    "one_hot_train_labels = to_categorical(train_labels)\n",
    "one_hot_test_labels = to_categorical(test_labels)\n",
    "\"\"\""
   ]
  },
  {
   "cell_type": "markdown",
   "id": "dc17a0c0",
   "metadata": {},
   "source": [
    "## 3.5.3 Building the network "
   ]
  },
  {
   "cell_type": "code",
   "execution_count": 10,
   "id": "1cca0fe0",
   "metadata": {},
   "outputs": [],
   "source": [
    "# Because the dim. of output space is 46, a 16-dim. intermediate space is not suitable \n",
    "# (as in the binary class. example)"
   ]
  },
  {
   "cell_type": "code",
   "execution_count": 11,
   "id": "ea448006",
   "metadata": {},
   "outputs": [],
   "source": [
    "from keras import models\n",
    "from keras import layers\n",
    "model = models.Sequential()\n",
    "model.add(layers.Dense(64, activation='relu', input_shape=(10000,))) # input shape (any, 10000), output (any, 64)\n",
    "model.add(layers.Dense(64, activation='relu')) \n",
    "model.add(layers.Dense(46, activation='softmax')) # input shape (any, 64), output (any, 46)"
   ]
  },
  {
   "cell_type": "code",
   "execution_count": 12,
   "id": "366fda3c",
   "metadata": {},
   "outputs": [],
   "source": [
    "# each entry in the resulting 46-dim. vectors encodes a prob. for which of the 46 categories a snippet belongs to.\n",
    "# in more technical terms, output[i] is the prob. that the snippet belongs to topic i."
   ]
  },
  {
   "cell_type": "code",
   "execution_count": 14,
   "id": "ddd057e3",
   "metadata": {},
   "outputs": [],
   "source": [
    "model.compile(\n",
    "    optimizer='rmsprop', # enhanced gradient descent opt.\n",
    "    loss='categorical_crossentropy', # measures dist. between two prob. distributions (output and target)\n",
    "    metrics=['accuracy'])"
   ]
  },
  {
   "cell_type": "markdown",
   "id": "f0888e38",
   "metadata": {},
   "source": [
    "## 3.5.4 Validate the Approach"
   ]
  },
  {
   "cell_type": "code",
   "execution_count": 15,
   "id": "2ae4b61b",
   "metadata": {},
   "outputs": [],
   "source": [
    "# set aside the first 1000 values and targets for val. set. Store the rest in partials.\n",
    "x_val = x_train[:1000]\n",
    "partial_x_train = x_train[1000:]\n",
    "y_val = one_hot_train_labels[:1000]\n",
    "partial_y_train = one_hot_train_labels[1000:]"
   ]
  },
  {
   "cell_type": "code",
   "execution_count": 16,
   "id": "3a96d295",
   "metadata": {},
   "outputs": [
    {
     "name": "stdout",
     "output_type": "stream",
     "text": [
      "Epoch 1/20\n",
      "16/16 [==============================] - 1s 30ms/step - loss: 2.6669 - accuracy: 0.4981 - val_loss: 1.7746 - val_accuracy: 0.6210\n",
      "Epoch 2/20\n",
      "16/16 [==============================] - 0s 17ms/step - loss: 1.4888 - accuracy: 0.6854 - val_loss: 1.3696 - val_accuracy: 0.6850\n",
      "Epoch 3/20\n",
      "16/16 [==============================] - 0s 17ms/step - loss: 1.1489 - accuracy: 0.7488 - val_loss: 1.1874 - val_accuracy: 0.7410\n",
      "Epoch 4/20\n",
      "16/16 [==============================] - 0s 18ms/step - loss: 0.9433 - accuracy: 0.7944 - val_loss: 1.0733 - val_accuracy: 0.7650\n",
      "Epoch 5/20\n",
      "16/16 [==============================] - 0s 18ms/step - loss: 0.7822 - accuracy: 0.8315 - val_loss: 1.0149 - val_accuracy: 0.7770\n",
      "Epoch 6/20\n",
      "16/16 [==============================] - 0s 17ms/step - loss: 0.6510 - accuracy: 0.8601 - val_loss: 0.9490 - val_accuracy: 0.7920\n",
      "Epoch 7/20\n",
      "16/16 [==============================] - 0s 18ms/step - loss: 0.5463 - accuracy: 0.8837 - val_loss: 0.9059 - val_accuracy: 0.8130\n",
      "Epoch 8/20\n",
      "16/16 [==============================] - 0s 17ms/step - loss: 0.4573 - accuracy: 0.8998 - val_loss: 0.8961 - val_accuracy: 0.8100\n",
      "Epoch 9/20\n",
      "16/16 [==============================] - 0s 18ms/step - loss: 0.3853 - accuracy: 0.9194 - val_loss: 0.8884 - val_accuracy: 0.8170\n",
      "Epoch 10/20\n",
      "16/16 [==============================] - 0s 18ms/step - loss: 0.3346 - accuracy: 0.9273 - val_loss: 0.8846 - val_accuracy: 0.8130\n",
      "Epoch 11/20\n",
      "16/16 [==============================] - 0s 18ms/step - loss: 0.2906 - accuracy: 0.9366 - val_loss: 0.8651 - val_accuracy: 0.8190\n",
      "Epoch 12/20\n",
      "16/16 [==============================] - 0s 18ms/step - loss: 0.2461 - accuracy: 0.9440 - val_loss: 0.8694 - val_accuracy: 0.8150\n",
      "Epoch 13/20\n",
      "16/16 [==============================] - 0s 17ms/step - loss: 0.2214 - accuracy: 0.9493 - val_loss: 0.9352 - val_accuracy: 0.8020\n",
      "Epoch 14/20\n",
      "16/16 [==============================] - 0s 17ms/step - loss: 0.2046 - accuracy: 0.9505 - val_loss: 0.8928 - val_accuracy: 0.8130\n",
      "Epoch 15/20\n",
      "16/16 [==============================] - 0s 17ms/step - loss: 0.1835 - accuracy: 0.9528 - val_loss: 0.8980 - val_accuracy: 0.8140\n",
      "Epoch 16/20\n",
      "16/16 [==============================] - 0s 18ms/step - loss: 0.1691 - accuracy: 0.9525 - val_loss: 0.9216 - val_accuracy: 0.8050\n",
      "Epoch 17/20\n",
      "16/16 [==============================] - 0s 18ms/step - loss: 0.1580 - accuracy: 0.9538 - val_loss: 0.9566 - val_accuracy: 0.7960\n",
      "Epoch 18/20\n",
      "16/16 [==============================] - 0s 18ms/step - loss: 0.1499 - accuracy: 0.9541 - val_loss: 0.9161 - val_accuracy: 0.8060\n",
      "Epoch 19/20\n",
      "16/16 [==============================] - 0s 18ms/step - loss: 0.1410 - accuracy: 0.9568 - val_loss: 0.9597 - val_accuracy: 0.7990\n",
      "Epoch 20/20\n",
      "16/16 [==============================] - 0s 18ms/step - loss: 0.1365 - accuracy: 0.9540 - val_loss: 0.9168 - val_accuracy: 0.8060\n"
     ]
    }
   ],
   "source": [
    "# fit model (train 20 epochs) and store result in History object\n",
    "history = model.fit(\n",
    "    partial_x_train,\n",
    "    partial_y_train,\n",
    "    epochs=20,\n",
    "    batch_size=512,\n",
    "    validation_data=(x_val, y_val)\n",
    ")"
   ]
  },
  {
   "cell_type": "code",
   "execution_count": 17,
   "id": "c0499c2d",
   "metadata": {},
   "outputs": [
    {
     "data": {
      "image/png": "[encoded data removed]",
      "text/plain": [
       "<Figure size 640x480 with 1 Axes>"
      ]
     },
     "metadata": {},
     "output_type": "display_data"
    }
   ],
   "source": [
    "# plot training and validation loss\n",
    "import matplotlib.pyplot as plt\n",
    "\n",
    "loss = history.history['loss']\n",
    "val_loss = history.history['val_loss']\n",
    "\n",
    "epochs = range(1, len(loss) + 1)\n",
    "\n",
    "plt.plot(epochs, loss, 'bo', label='Training loss')\n",
    "plt.plot(epochs, val_loss, 'b', label='Validation loss')\n",
    "\n",
    "plt.title('Training and validation loss')\n",
    "plt.xlabel('Epochs')\n",
    "plt.ylabel('Loss')\n",
    "plt.legend()\n",
    "\n",
    "plt.show()"
   ]
  },
  {
   "cell_type": "code",
   "execution_count": 22,
   "id": "06a80cc8",
   "metadata": {},
   "outputs": [
    {
     "data": {
      "image/png": "[encoded data removed]",
      "text/plain": [
       "<Figure size 640x480 with 1 Axes>"
      ]
     },
     "metadata": {},
     "output_type": "display_data"
    }
   ],
   "source": [
    "# plot training and validation accuracy\n",
    "plt.clf()\n",
    "acc = history.history['accuracy']\n",
    "val_acc = history.history['val_accuracy']\n",
    "\n",
    "plt.plot(epochs, acc, 'bo', label='Training acc')\n",
    "plt.plot(epochs, val_acc, 'b', label='Validation acc')\n",
    "\n",
    "plt.title('Training and validation accuracy')\n",
    "plt.xlabel('Epochs')\n",
    "plt.ylabel('Loss')\n",
    "plt.legend()\n",
    "\n",
    "plt.show()"
   ]
  },
  {
   "cell_type": "code",
   "execution_count": 23,
   "id": "476f687f",
   "metadata": {},
   "outputs": [
    {
     "name": "stdout",
     "output_type": "stream",
     "text": [
      "Epoch 1/9\n",
      "16/16 [==============================] - 1s 30ms/step - loss: 2.7044 - accuracy: 0.4337 - val_loss: 1.8156 - val_accuracy: 0.5980\n",
      "Epoch 2/9\n",
      "16/16 [==============================] - 0s 18ms/step - loss: 1.5514 - accuracy: 0.6676 - val_loss: 1.3968 - val_accuracy: 0.6790\n",
      "Epoch 3/9\n",
      "16/16 [==============================] - 0s 18ms/step - loss: 1.1895 - accuracy: 0.7468 - val_loss: 1.2259 - val_accuracy: 0.7370\n",
      "Epoch 4/9\n",
      "16/16 [==============================] - 0s 18ms/step - loss: 0.9616 - accuracy: 0.7939 - val_loss: 1.0881 - val_accuracy: 0.7650\n",
      "Epoch 5/9\n",
      "16/16 [==============================] - 0s 18ms/step - loss: 0.7899 - accuracy: 0.8291 - val_loss: 0.9922 - val_accuracy: 0.7920\n",
      "Epoch 6/9\n",
      "16/16 [==============================] - 0s 18ms/step - loss: 0.6509 - accuracy: 0.8599 - val_loss: 0.9716 - val_accuracy: 0.7980\n",
      "Epoch 7/9\n",
      "16/16 [==============================] - 0s 17ms/step - loss: 0.5478 - accuracy: 0.8837 - val_loss: 0.9197 - val_accuracy: 0.8040\n",
      "Epoch 8/9\n",
      "16/16 [==============================] - 0s 18ms/step - loss: 0.4566 - accuracy: 0.9019 - val_loss: 0.8745 - val_accuracy: 0.8200\n",
      "Epoch 9/9\n",
      "16/16 [==============================] - 0s 18ms/step - loss: 0.3853 - accuracy: 0.9172 - val_loss: 0.8800 - val_accuracy: 0.8050\n",
      "71/71 [==============================] - 0s 2ms/step - loss: 0.9502 - accuracy: 0.7845\n"
     ]
    }
   ],
   "source": [
    "# retrain model on test data over 9 epochs\n",
    "model = models.Sequential()\n",
    "model.add(layers.Dense(64, activation='relu', input_shape=(10000,)))\n",
    "model.add(layers.Dense(64, activation='relu'))\n",
    "model.add(layers.Dense(46, activation='softmax'))\n",
    "\n",
    "model.compile(\n",
    "    optimizer='rmsprop',\n",
    "    loss='categorical_crossentropy',\n",
    "    metrics=['accuracy']\n",
    ")\n",
    "\n",
    "model.fit(\n",
    "    partial_x_train,\n",
    "    partial_y_train,\n",
    "    epochs=9,\n",
    "    batch_size=512,\n",
    "    validation_data=(x_val, y_val)\n",
    ")\n",
    "\n",
    "results = model.evaluate(x_test, one_hot_test_labels)"
   ]
  },
  {
   "cell_type": "code",
   "execution_count": 24,
   "id": "ed8e1fdc",
   "metadata": {},
   "outputs": [
    {
     "name": "stdout",
     "output_type": "stream",
     "text": [
      "[0.950171709060669, 0.7845057845115662]\n"
     ]
    }
   ],
   "source": [
    "print(results)"
   ]
  },
  {
   "cell_type": "markdown",
   "id": "81986d7f",
   "metadata": {},
   "source": [
    "## 3.5.5 Generate Predictions on New Data"
   ]
  },
  {
   "cell_type": "code",
   "execution_count": 25,
   "id": "6671f800",
   "metadata": {},
   "outputs": [
    {
     "name": "stdout",
     "output_type": "stream",
     "text": [
      "71/71 [==============================] - 0s 2ms/step\n"
     ]
    },
    {
     "data": {
      "text/plain": [
       "3"
      ]
     },
     "execution_count": 25,
     "metadata": {},
     "output_type": "execute_result"
    }
   ],
   "source": [
    "# model's .predict() method returns a prob. dist. vector of length 46.\n",
    "predictions = model.predict(x_test) # each pred. in predictions is of length 46.\n",
    "\n",
    "# sum of prob. dist. is 1\n",
    "np.sum(predictions[0])\n",
    "\n",
    "# the index with the greatest entry is the predicted class\n",
    "np.argmax(predictions[0])"
   ]
  },
  {
   "cell_type": "markdown",
   "id": "64794a55",
   "metadata": {},
   "source": [
    "## 3.5.6 A different way to handle the labels and the loss"
   ]
  },
  {
   "cell_type": "code",
   "execution_count": 26,
   "id": "09e1d6b0",
   "metadata": {},
   "outputs": [],
   "source": [
    "# encoding labels as integer tensors, rather than OHE vectors:\n",
    "y_train = np.array(train_labels)\n",
    "y_test = np.array(test_labels)\n",
    "\n",
    "# instead of categorical_crossentropy loss function, use sparse_categorical_crossentropy\n",
    "model.compile(\n",
    "    optimizer='rmsprop',\n",
    "    loss='sparse_categorical_crossentropy',\n",
    "    metrics=['acc']\n",
    ")"
   ]
  },
  {
   "cell_type": "markdown",
   "id": "e4df19ef",
   "metadata": {},
   "source": [
    "## Miscellaneous Notes"
   ]
  },
  {
   "cell_type": "code",
   "execution_count": 27,
   "id": "e3101ac6",
   "metadata": {},
   "outputs": [],
   "source": [
    "# using an intermediate layer with too few neurons compresses the data in such a way that some of it is lost. \n",
    "# it follows that you should avoid information bottlenecks.\n",
    "# if you are trying to classify a dataset into N categories, the final layer should be a Dense layer of shape N.\n",
    "# in single-label, multiclass classification, the final activation function should be softmax (prob. distr. output)\n",
    "# loss function is generally categorical_crossentropy, unless you encode targets as integers, in which case\n",
    "# use sparse_categorical_crossentropy"
   ]
  },
  {
   "cell_type": "code",
   "execution_count": null,
   "id": "f1f6e65a",
   "metadata": {},
   "outputs": [],
   "source": []
  }
 ],
 "metadata": {
  "kernelspec": {
   "display_name": "Python 3 (ipykernel)",
   "language": "python",
   "name": "python3"
  },
  "language_info": {
   "codemirror_mode": {
    "name": "ipython",
    "version": 3
   },
   "file_extension": ".py",
   "mimetype": "text/x-python",
   "name": "python",
   "nbconvert_exporter": "python",
   "pygments_lexer": "ipython3",
   "version": "3.11.2"
  }
 },
 "nbformat": 4,
 "nbformat_minor": 5
}
